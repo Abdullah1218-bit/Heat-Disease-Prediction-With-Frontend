cols_for_scaling = ['Sex','ChestPainType', 'RestingECG', 'ExerciseAngina', 'ST_Slope', 'MaxHR', 'Oldpeak']
scaler = StandardScaler()
df[cols_for_scaling] = scaler.fit_transform(df[cols_for_scaling])
df